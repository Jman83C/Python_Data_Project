{
 "cells": [
  {
   "cell_type": "code",
   "execution_count": null,
   "metadata": {},
   "outputs": [],
   "source": []
  }
 ],
 "metadata": {
  "kernelspec": {
   "display_name": "python_course",
   "language": "python",
   "name": "python3"
  },
  "language_info": {
   "name": "python",
   "version": "3.11.9 (main, Apr 19 2024, 11:43:47) [Clang 14.0.6 ]"
  },
  "orig_nbformat": 4,
  "vscode": {
   "interpreter": {
    "hash": "bd2d51498398f6a61473c6b6b9b8823c56a62627f678fdef53e5a03364f0548e"
   }
  }
 },
 "nbformat": 4,
 "nbformat_minor": 2
}
